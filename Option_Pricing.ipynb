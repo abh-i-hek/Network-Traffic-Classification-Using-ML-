{
  "nbformat": 4,
  "nbformat_minor": 0,
  "metadata": {
    "colab": {
      "name": "Option_Pricing",
      "provenance": [],
      "collapsed_sections": [],
      "toc_visible": true,
      "authorship_tag": "ABX9TyMVkX9VOkJY+KFlefycnUpO",
      "include_colab_link": true
    },
    "kernelspec": {
      "name": "python3",
      "display_name": "Python 3"
    },
    "language_info": {
      "name": "python"
    }
  },
  "cells": [
    {
      "cell_type": "markdown",
      "metadata": {
        "id": "view-in-github",
        "colab_type": "text"
      },
      "source": [
        "<a href=\"https://colab.research.google.com/github/abh-i-hek/Network-Traffic-Classification-Using-ML-/blob/main/Option_Pricing.ipynb\" target=\"_parent\"><img src=\"https://colab.research.google.com/assets/colab-badge.svg\" alt=\"Open In Colab\"/></a>"
      ]
    },
    {
      "cell_type": "code",
      "metadata": {
        "colab": {
          "base_uri": "https://localhost:8080/",
          "height": 419
        },
        "id": "un006i5qTTI8",
        "outputId": "54530804-e490-4b14-e92c-df779fb838fb"
      },
      "source": [
        "import pandas as pa\n",
        "import numpy as nm\n",
        "from sklearn import preprocessing\n",
        "\n",
        "df = pa.read_csv(r'/content/M2_data.csv')\n",
        "df"
      ],
      "execution_count": 153,
      "outputs": [
        {
          "output_type": "execute_result",
          "data": {
            "text/html": [
              "<div>\n",
              "<style scoped>\n",
              "    .dataframe tbody tr th:only-of-type {\n",
              "        vertical-align: middle;\n",
              "    }\n",
              "\n",
              "    .dataframe tbody tr th {\n",
              "        vertical-align: top;\n",
              "    }\n",
              "\n",
              "    .dataframe thead th {\n",
              "        text-align: right;\n",
              "    }\n",
              "</style>\n",
              "<table border=\"1\" class=\"dataframe\">\n",
              "  <thead>\n",
              "    <tr style=\"text-align: right;\">\n",
              "      <th></th>\n",
              "      <th>Option_Price</th>\n",
              "      <th>Maturity</th>\n",
              "      <th>IV</th>\n",
              "      <th>Moneyness</th>\n",
              "    </tr>\n",
              "  </thead>\n",
              "  <tbody>\n",
              "    <tr>\n",
              "      <th>0</th>\n",
              "      <td>925.55</td>\n",
              "      <td>0.841096</td>\n",
              "      <td>5.971657e+00</td>\n",
              "      <td>1.018341</td>\n",
              "    </tr>\n",
              "    <tr>\n",
              "      <th>1</th>\n",
              "      <td>1150.30</td>\n",
              "      <td>0.841096</td>\n",
              "      <td>1.306964e+01</td>\n",
              "      <td>1.009167</td>\n",
              "    </tr>\n",
              "    <tr>\n",
              "      <th>2</th>\n",
              "      <td>1096.05</td>\n",
              "      <td>0.841096</td>\n",
              "      <td>7.864823e+00</td>\n",
              "      <td>1.000156</td>\n",
              "    </tr>\n",
              "    <tr>\n",
              "      <th>3</th>\n",
              "      <td>1043.55</td>\n",
              "      <td>0.841096</td>\n",
              "      <td>4.915707e+00</td>\n",
              "      <td>0.991305</td>\n",
              "    </tr>\n",
              "    <tr>\n",
              "      <th>4</th>\n",
              "      <td>992.85</td>\n",
              "      <td>0.841096</td>\n",
              "      <td>2.464963e+00</td>\n",
              "      <td>0.982610</td>\n",
              "    </tr>\n",
              "    <tr>\n",
              "      <th>...</th>\n",
              "      <td>...</td>\n",
              "      <td>...</td>\n",
              "      <td>...</td>\n",
              "      <td>...</td>\n",
              "    </tr>\n",
              "    <tr>\n",
              "      <th>17258</th>\n",
              "      <td>1175.20</td>\n",
              "      <td>0.002740</td>\n",
              "      <td>5.990000e+247</td>\n",
              "      <td>1.092340</td>\n",
              "    </tr>\n",
              "    <tr>\n",
              "      <th>17259</th>\n",
              "      <td>1131.50</td>\n",
              "      <td>0.002740</td>\n",
              "      <td>2.060000e+226</td>\n",
              "      <td>1.088089</td>\n",
              "    </tr>\n",
              "    <tr>\n",
              "      <th>17260</th>\n",
              "      <td>1076.00</td>\n",
              "      <td>0.002740</td>\n",
              "      <td>9.010000e+205</td>\n",
              "      <td>1.083872</td>\n",
              "    </tr>\n",
              "    <tr>\n",
              "      <th>17261</th>\n",
              "      <td>1279.35</td>\n",
              "      <td>0.002740</td>\n",
              "      <td>1.570000e+294</td>\n",
              "      <td>1.100941</td>\n",
              "    </tr>\n",
              "    <tr>\n",
              "      <th>17262</th>\n",
              "      <td>1232.35</td>\n",
              "      <td>0.002740</td>\n",
              "      <td>5.490000e+269</td>\n",
              "      <td>1.096624</td>\n",
              "    </tr>\n",
              "  </tbody>\n",
              "</table>\n",
              "<p>17263 rows × 4 columns</p>\n",
              "</div>"
            ],
            "text/plain": [
              "       Option_Price  Maturity              IV  Moneyness\n",
              "0            925.55   0.841096   5.971657e+00   1.018341\n",
              "1           1150.30   0.841096   1.306964e+01   1.009167\n",
              "2           1096.05   0.841096   7.864823e+00   1.000156\n",
              "3           1043.55   0.841096   4.915707e+00   0.991305\n",
              "4            992.85   0.841096   2.464963e+00   0.982610\n",
              "...             ...        ...            ...        ...\n",
              "17258       1175.20   0.002740  5.990000e+247   1.092340\n",
              "17259       1131.50   0.002740  2.060000e+226   1.088089\n",
              "17260       1076.00   0.002740  9.010000e+205   1.083872\n",
              "17261       1279.35   0.002740  1.570000e+294   1.100941\n",
              "17262       1232.35   0.002740  5.490000e+269   1.096624\n",
              "\n",
              "[17263 rows x 4 columns]"
            ]
          },
          "metadata": {
            "tags": []
          },
          "execution_count": 153
        }
      ]
    },
    {
      "cell_type": "code",
      "metadata": {
        "colab": {
          "base_uri": "https://localhost:8080/"
        },
        "id": "dtvY4RCLodx7",
        "outputId": "202c666d-bcef-4ed4-fff5-c9d273fd897a"
      },
      "source": [
        "df.isnull().any()"
      ],
      "execution_count": 154,
      "outputs": [
        {
          "output_type": "execute_result",
          "data": {
            "text/plain": [
              "Option_Price    False\n",
              "Maturity        False\n",
              "IV              False\n",
              "Moneyness       False\n",
              "dtype: bool"
            ]
          },
          "metadata": {
            "tags": []
          },
          "execution_count": 154
        }
      ]
    },
    {
      "cell_type": "code",
      "metadata": {
        "colab": {
          "base_uri": "https://localhost:8080/"
        },
        "id": "nFW9ocRNoi0u",
        "outputId": "548d6313-62f7-495e-e8e4-7090bce5d1b3"
      },
      "source": [
        "nm.isnan(df.values.any()) # Check for NAN"
      ],
      "execution_count": 155,
      "outputs": [
        {
          "output_type": "execute_result",
          "data": {
            "text/plain": [
              "False"
            ]
          },
          "metadata": {
            "tags": []
          },
          "execution_count": 155
        }
      ]
    },
    {
      "cell_type": "code",
      "metadata": {
        "id": "Naehw2fVomac"
      },
      "source": [
        "X_train = X_train.fillna(X_train.mean())"
      ],
      "execution_count": 156,
      "outputs": []
    },
    {
      "cell_type": "code",
      "metadata": {
        "colab": {
          "base_uri": "https://localhost:8080/",
          "height": 419
        },
        "id": "vpqWPUWPsn-y",
        "outputId": "87559241-84ed-404d-96f1-b620957ca2b8"
      },
      "source": [
        "df.apply(lambda x: pd.to_numeric(x, errors='coerce')).dropna()"
      ],
      "execution_count": 157,
      "outputs": [
        {
          "output_type": "execute_result",
          "data": {
            "text/html": [
              "<div>\n",
              "<style scoped>\n",
              "    .dataframe tbody tr th:only-of-type {\n",
              "        vertical-align: middle;\n",
              "    }\n",
              "\n",
              "    .dataframe tbody tr th {\n",
              "        vertical-align: top;\n",
              "    }\n",
              "\n",
              "    .dataframe thead th {\n",
              "        text-align: right;\n",
              "    }\n",
              "</style>\n",
              "<table border=\"1\" class=\"dataframe\">\n",
              "  <thead>\n",
              "    <tr style=\"text-align: right;\">\n",
              "      <th></th>\n",
              "      <th>Option_Price</th>\n",
              "      <th>Maturity</th>\n",
              "      <th>IV</th>\n",
              "      <th>Moneyness</th>\n",
              "    </tr>\n",
              "  </thead>\n",
              "  <tbody>\n",
              "    <tr>\n",
              "      <th>0</th>\n",
              "      <td>925.55</td>\n",
              "      <td>0.841096</td>\n",
              "      <td>5.971657e+00</td>\n",
              "      <td>1.018341</td>\n",
              "    </tr>\n",
              "    <tr>\n",
              "      <th>1</th>\n",
              "      <td>1150.30</td>\n",
              "      <td>0.841096</td>\n",
              "      <td>1.306964e+01</td>\n",
              "      <td>1.009167</td>\n",
              "    </tr>\n",
              "    <tr>\n",
              "      <th>2</th>\n",
              "      <td>1096.05</td>\n",
              "      <td>0.841096</td>\n",
              "      <td>7.864823e+00</td>\n",
              "      <td>1.000156</td>\n",
              "    </tr>\n",
              "    <tr>\n",
              "      <th>3</th>\n",
              "      <td>1043.55</td>\n",
              "      <td>0.841096</td>\n",
              "      <td>4.915707e+00</td>\n",
              "      <td>0.991305</td>\n",
              "    </tr>\n",
              "    <tr>\n",
              "      <th>4</th>\n",
              "      <td>992.85</td>\n",
              "      <td>0.841096</td>\n",
              "      <td>2.464963e+00</td>\n",
              "      <td>0.982610</td>\n",
              "    </tr>\n",
              "    <tr>\n",
              "      <th>...</th>\n",
              "      <td>...</td>\n",
              "      <td>...</td>\n",
              "      <td>...</td>\n",
              "      <td>...</td>\n",
              "    </tr>\n",
              "    <tr>\n",
              "      <th>17258</th>\n",
              "      <td>1175.20</td>\n",
              "      <td>0.002740</td>\n",
              "      <td>5.990000e+247</td>\n",
              "      <td>1.092340</td>\n",
              "    </tr>\n",
              "    <tr>\n",
              "      <th>17259</th>\n",
              "      <td>1131.50</td>\n",
              "      <td>0.002740</td>\n",
              "      <td>2.060000e+226</td>\n",
              "      <td>1.088089</td>\n",
              "    </tr>\n",
              "    <tr>\n",
              "      <th>17260</th>\n",
              "      <td>1076.00</td>\n",
              "      <td>0.002740</td>\n",
              "      <td>9.010000e+205</td>\n",
              "      <td>1.083872</td>\n",
              "    </tr>\n",
              "    <tr>\n",
              "      <th>17261</th>\n",
              "      <td>1279.35</td>\n",
              "      <td>0.002740</td>\n",
              "      <td>1.570000e+294</td>\n",
              "      <td>1.100941</td>\n",
              "    </tr>\n",
              "    <tr>\n",
              "      <th>17262</th>\n",
              "      <td>1232.35</td>\n",
              "      <td>0.002740</td>\n",
              "      <td>5.490000e+269</td>\n",
              "      <td>1.096624</td>\n",
              "    </tr>\n",
              "  </tbody>\n",
              "</table>\n",
              "<p>17263 rows × 4 columns</p>\n",
              "</div>"
            ],
            "text/plain": [
              "       Option_Price  Maturity              IV  Moneyness\n",
              "0            925.55   0.841096   5.971657e+00   1.018341\n",
              "1           1150.30   0.841096   1.306964e+01   1.009167\n",
              "2           1096.05   0.841096   7.864823e+00   1.000156\n",
              "3           1043.55   0.841096   4.915707e+00   0.991305\n",
              "4            992.85   0.841096   2.464963e+00   0.982610\n",
              "...             ...        ...            ...        ...\n",
              "17258       1175.20   0.002740  5.990000e+247   1.092340\n",
              "17259       1131.50   0.002740  2.060000e+226   1.088089\n",
              "17260       1076.00   0.002740  9.010000e+205   1.083872\n",
              "17261       1279.35   0.002740  1.570000e+294   1.100941\n",
              "17262       1232.35   0.002740  5.490000e+269   1.096624\n",
              "\n",
              "[17263 rows x 4 columns]"
            ]
          },
          "metadata": {
            "tags": []
          },
          "execution_count": 157
        }
      ]
    },
    {
      "cell_type": "code",
      "metadata": {
        "id": "hUpc799dZNkg"
      },
      "source": [
        "x = df.values #returns a numpy array\n",
        "min_max_scaler = preprocessing.MinMaxScaler()\n",
        "x_scaled = min_max_scaler.fit_transform(x)\n",
        "df=pa.DataFrame(x_scaled, columns=df.columns)"
      ],
      "execution_count": 167,
      "outputs": []
    },
    {
      "cell_type": "code",
      "metadata": {
        "colab": {
          "base_uri": "https://localhost:8080/",
          "height": 297
        },
        "id": "d9LP4k48UiP5",
        "outputId": "0ee8acb1-baae-473e-eb83-88e8b1932167"
      },
      "source": [
        "df.describe()"
      ],
      "execution_count": 168,
      "outputs": [
        {
          "output_type": "execute_result",
          "data": {
            "text/html": [
              "<div>\n",
              "<style scoped>\n",
              "    .dataframe tbody tr th:only-of-type {\n",
              "        vertical-align: middle;\n",
              "    }\n",
              "\n",
              "    .dataframe tbody tr th {\n",
              "        vertical-align: top;\n",
              "    }\n",
              "\n",
              "    .dataframe thead th {\n",
              "        text-align: right;\n",
              "    }\n",
              "</style>\n",
              "<table border=\"1\" class=\"dataframe\">\n",
              "  <thead>\n",
              "    <tr style=\"text-align: right;\">\n",
              "      <th></th>\n",
              "      <th>Option_Price</th>\n",
              "      <th>Maturity</th>\n",
              "      <th>IV</th>\n",
              "      <th>Moneyness</th>\n",
              "    </tr>\n",
              "  </thead>\n",
              "  <tbody>\n",
              "    <tr>\n",
              "      <th>count</th>\n",
              "      <td>17263.000000</td>\n",
              "      <td>17263.000000</td>\n",
              "      <td>1.726300e+04</td>\n",
              "      <td>17263.000000</td>\n",
              "    </tr>\n",
              "    <tr>\n",
              "      <th>mean</th>\n",
              "      <td>0.225564</td>\n",
              "      <td>0.502819</td>\n",
              "      <td>9.215944e-05</td>\n",
              "      <td>0.289621</td>\n",
              "    </tr>\n",
              "    <tr>\n",
              "      <th>std</th>\n",
              "      <td>0.199679</td>\n",
              "      <td>0.313600</td>\n",
              "      <td>8.450854e-03</td>\n",
              "      <td>0.151318</td>\n",
              "    </tr>\n",
              "    <tr>\n",
              "      <th>min</th>\n",
              "      <td>0.000000</td>\n",
              "      <td>0.000000</td>\n",
              "      <td>0.000000e+00</td>\n",
              "      <td>0.000000</td>\n",
              "    </tr>\n",
              "    <tr>\n",
              "      <th>25%</th>\n",
              "      <td>0.060993</td>\n",
              "      <td>0.199346</td>\n",
              "      <td>1.290301e-308</td>\n",
              "      <td>0.196023</td>\n",
              "    </tr>\n",
              "    <tr>\n",
              "      <th>50%</th>\n",
              "      <td>0.169162</td>\n",
              "      <td>0.545751</td>\n",
              "      <td>1.476080e-304</td>\n",
              "      <td>0.262586</td>\n",
              "    </tr>\n",
              "    <tr>\n",
              "      <th>75%</th>\n",
              "      <td>0.344925</td>\n",
              "      <td>0.781045</td>\n",
              "      <td>3.370607e-288</td>\n",
              "      <td>0.355286</td>\n",
              "    </tr>\n",
              "    <tr>\n",
              "      <th>max</th>\n",
              "      <td>1.000000</td>\n",
              "      <td>1.000000</td>\n",
              "      <td>1.000000e+00</td>\n",
              "      <td>1.000000</td>\n",
              "    </tr>\n",
              "  </tbody>\n",
              "</table>\n",
              "</div>"
            ],
            "text/plain": [
              "       Option_Price     Maturity              IV     Moneyness\n",
              "count  17263.000000  17263.000000   1.726300e+04  17263.000000\n",
              "mean       0.225564      0.502819   9.215944e-05      0.289621\n",
              "std        0.199679      0.313600   8.450854e-03      0.151318\n",
              "min        0.000000      0.000000   0.000000e+00      0.000000\n",
              "25%        0.060993      0.199346  1.290301e-308      0.196023\n",
              "50%        0.169162      0.545751  1.476080e-304      0.262586\n",
              "75%        0.344925      0.781045  3.370607e-288      0.355286\n",
              "max        1.000000      1.000000   1.000000e+00      1.000000"
            ]
          },
          "metadata": {
            "tags": []
          },
          "execution_count": 168
        }
      ]
    },
    {
      "cell_type": "code",
      "metadata": {
        "colab": {
          "base_uri": "https://localhost:8080/"
        },
        "id": "v0dv28tPUoB2",
        "outputId": "b56791b4-084c-4e83-c198-53e911b2d866"
      },
      "source": [
        "df.columns"
      ],
      "execution_count": 169,
      "outputs": [
        {
          "output_type": "execute_result",
          "data": {
            "text/plain": [
              "Index(['Option_Price', 'Maturity ', 'IV', 'Moneyness'], dtype='object')"
            ]
          },
          "metadata": {
            "tags": []
          },
          "execution_count": 169
        }
      ]
    },
    {
      "cell_type": "code",
      "metadata": {
        "id": "fU6GIrUJUwe0"
      },
      "source": [
        "Y = df.Option_Price #Target "
      ],
      "execution_count": 170,
      "outputs": []
    },
    {
      "cell_type": "code",
      "metadata": {
        "colab": {
          "base_uri": "https://localhost:8080/"
        },
        "id": "HyPaqIAMVXOc",
        "outputId": "836095be-b7ec-4db8-c15b-3eb2124334bc"
      },
      "source": [
        "from sklearn.model_selection import train_test_split\n",
        "\n",
        "X_train, X_test, y_train, y_test = train_test_split(df, Y, test_size=0.2)\n",
        "print (X_train.shape, y_train.shape)\n",
        "print (X_test.shape, y_test.shape)"
      ],
      "execution_count": 171,
      "outputs": [
        {
          "output_type": "stream",
          "text": [
            "(13810, 4) (13810,)\n",
            "(3453, 4) (3453,)\n"
          ],
          "name": "stdout"
        }
      ]
    },
    {
      "cell_type": "code",
      "metadata": {
        "colab": {
          "base_uri": "https://localhost:8080/"
        },
        "id": "Xtc51VOlVb7j",
        "outputId": "44ee6174-07ae-4168-d810-1075299840b3"
      },
      "source": [
        "X_test.fillna(X_train.mean(), inplace=True)\n",
        "X_test = X_test.fillna(X_train.mean())"
      ],
      "execution_count": 172,
      "outputs": [
        {
          "output_type": "stream",
          "text": [
            "/usr/local/lib/python3.7/dist-packages/pandas/core/series.py:4536: SettingWithCopyWarning: \n",
            "A value is trying to be set on a copy of a slice from a DataFrame\n",
            "\n",
            "See the caveats in the documentation: https://pandas.pydata.org/pandas-docs/stable/user_guide/indexing.html#returning-a-view-versus-a-copy\n",
            "  downcast=downcast,\n"
          ],
          "name": "stderr"
        }
      ]
    },
    {
      "cell_type": "code",
      "metadata": {
        "colab": {
          "base_uri": "https://localhost:8080/"
        },
        "id": "fT3RY-DvY5vn",
        "outputId": "1e282600-ed7f-44c6-ffab-6f215461d868"
      },
      "source": [
        "from sklearn.ensemble import RandomForestRegressor\n",
        "model = RandomForestRegressor(n_estimators=10,random_state=0)\n",
        "model.fit(X_train, y_train)"
      ],
      "execution_count": 173,
      "outputs": [
        {
          "output_type": "execute_result",
          "data": {
            "text/plain": [
              "RandomForestRegressor(bootstrap=True, ccp_alpha=0.0, criterion='mse',\n",
              "                      max_depth=None, max_features='auto', max_leaf_nodes=None,\n",
              "                      max_samples=None, min_impurity_decrease=0.0,\n",
              "                      min_impurity_split=None, min_samples_leaf=1,\n",
              "                      min_samples_split=2, min_weight_fraction_leaf=0.0,\n",
              "                      n_estimators=10, n_jobs=None, oob_score=False,\n",
              "                      random_state=0, verbose=0, warm_start=False)"
            ]
          },
          "metadata": {
            "tags": []
          },
          "execution_count": 173
        }
      ]
    },
    {
      "cell_type": "code",
      "metadata": {
        "id": "C6VwN-bBVmdo"
      },
      "source": [
        "y_pred = model.predict(X_test)"
      ],
      "execution_count": 174,
      "outputs": []
    },
    {
      "cell_type": "code",
      "metadata": {
        "id": "hP6DOJ7PVrmt"
      },
      "source": [
        "#min_max_scaler.inverse_transform(x_scaled)"
      ],
      "execution_count": 100,
      "outputs": []
    },
    {
      "cell_type": "code",
      "metadata": {
        "colab": {
          "base_uri": "https://localhost:8080/",
          "height": 419
        },
        "id": "TUdVLLcOV_qQ",
        "outputId": "967e440e-2a29-48d0-b6f8-0528b41f0e1f"
      },
      "source": [
        "pa.DataFrame(data={'predictions': y_pred, 'actual': y_test})"
      ],
      "execution_count": 175,
      "outputs": [
        {
          "output_type": "execute_result",
          "data": {
            "text/html": [
              "<div>\n",
              "<style scoped>\n",
              "    .dataframe tbody tr th:only-of-type {\n",
              "        vertical-align: middle;\n",
              "    }\n",
              "\n",
              "    .dataframe tbody tr th {\n",
              "        vertical-align: top;\n",
              "    }\n",
              "\n",
              "    .dataframe thead th {\n",
              "        text-align: right;\n",
              "    }\n",
              "</style>\n",
              "<table border=\"1\" class=\"dataframe\">\n",
              "  <thead>\n",
              "    <tr style=\"text-align: right;\">\n",
              "      <th></th>\n",
              "      <th>predictions</th>\n",
              "      <th>actual</th>\n",
              "    </tr>\n",
              "  </thead>\n",
              "  <tbody>\n",
              "    <tr>\n",
              "      <th>5307</th>\n",
              "      <td>0.043912</td>\n",
              "      <td>0.043896</td>\n",
              "    </tr>\n",
              "    <tr>\n",
              "      <th>5121</th>\n",
              "      <td>0.093097</td>\n",
              "      <td>0.092912</td>\n",
              "    </tr>\n",
              "    <tr>\n",
              "      <th>8411</th>\n",
              "      <td>0.002512</td>\n",
              "      <td>0.002455</td>\n",
              "    </tr>\n",
              "    <tr>\n",
              "      <th>6540</th>\n",
              "      <td>0.031858</td>\n",
              "      <td>0.031804</td>\n",
              "    </tr>\n",
              "    <tr>\n",
              "      <th>16881</th>\n",
              "      <td>0.269581</td>\n",
              "      <td>0.269664</td>\n",
              "    </tr>\n",
              "    <tr>\n",
              "      <th>...</th>\n",
              "      <td>...</td>\n",
              "      <td>...</td>\n",
              "    </tr>\n",
              "    <tr>\n",
              "      <th>7477</th>\n",
              "      <td>0.009754</td>\n",
              "      <td>0.009841</td>\n",
              "    </tr>\n",
              "    <tr>\n",
              "      <th>11196</th>\n",
              "      <td>0.009425</td>\n",
              "      <td>0.009537</td>\n",
              "    </tr>\n",
              "    <tr>\n",
              "      <th>12079</th>\n",
              "      <td>0.357103</td>\n",
              "      <td>0.357203</td>\n",
              "    </tr>\n",
              "    <tr>\n",
              "      <th>10068</th>\n",
              "      <td>0.135963</td>\n",
              "      <td>0.135998</td>\n",
              "    </tr>\n",
              "    <tr>\n",
              "      <th>6801</th>\n",
              "      <td>0.377864</td>\n",
              "      <td>0.377725</td>\n",
              "    </tr>\n",
              "  </tbody>\n",
              "</table>\n",
              "<p>3453 rows × 2 columns</p>\n",
              "</div>"
            ],
            "text/plain": [
              "       predictions    actual\n",
              "5307      0.043912  0.043896\n",
              "5121      0.093097  0.092912\n",
              "8411      0.002512  0.002455\n",
              "6540      0.031858  0.031804\n",
              "16881     0.269581  0.269664\n",
              "...            ...       ...\n",
              "7477      0.009754  0.009841\n",
              "11196     0.009425  0.009537\n",
              "12079     0.357103  0.357203\n",
              "10068     0.135963  0.135998\n",
              "6801      0.377864  0.377725\n",
              "\n",
              "[3453 rows x 2 columns]"
            ]
          },
          "metadata": {
            "tags": []
          },
          "execution_count": 175
        }
      ]
    },
    {
      "cell_type": "code",
      "metadata": {
        "id": "4PMAtYWgWI78"
      },
      "source": [
        "from sklearn.metrics import mean_squared_error \n",
        "from sklearn.metrics import mean_absolute_error"
      ],
      "execution_count": 189,
      "outputs": []
    },
    {
      "cell_type": "code",
      "metadata": {
        "colab": {
          "base_uri": "https://localhost:8080/"
        },
        "id": "cCVkEfzUWM9m",
        "outputId": "0d5030bc-1d2a-45e9-a239-896c838f57b9"
      },
      "source": [
        "mse_rf = mean_squared_error(y_test,y_pred)\n",
        "print(mse_rf)"
      ],
      "execution_count": 177,
      "outputs": [
        {
          "output_type": "stream",
          "text": [
            "4.284372146447515e-08\n"
          ],
          "name": "stdout"
        }
      ]
    },
    {
      "cell_type": "code",
      "metadata": {
        "colab": {
          "base_uri": "https://localhost:8080/"
        },
        "id": "KFggynkLWSvA",
        "outputId": "7651cd7f-f57d-479b-ecdc-28bd02e2fa6f"
      },
      "source": [
        "from math import sqrt\n",
        "\n",
        "rmse_rf_m1 = sqrt(mse_rf)\n",
        "\n",
        "print('RMSE_M2 of Random Forest: %f' % rmse_rf_m3)"
      ],
      "execution_count": 180,
      "outputs": [
        {
          "output_type": "stream",
          "text": [
            "RMSE_M2 of Random Forest: 0.000190\n"
          ],
          "name": "stdout"
        }
      ]
    },
    {
      "cell_type": "code",
      "metadata": {
        "colab": {
          "base_uri": "https://localhost:8080/",
          "height": 614
        },
        "id": "6Pdn_1Jvgsq2",
        "outputId": "1fac6368-ab64-4f32-eabc-c94d3f6fb3a0"
      },
      "source": [
        "#Plots\n",
        "import matplotlib.pyplot as plt\n",
        "plt.figure(figsize=(10,10))\n",
        "plt.scatter(y_test, y_pred, c='crimson')\n",
        "plt.yscale('log')\n",
        "plt.xscale('log')\n",
        "\n",
        "p1 = max(max(y_pred), max(y_test))\n",
        "p2 = min(min(y_pred), min(y_test))\n",
        "plt.plot([p1, p2], [p1, p2], 'b-')\n",
        "plt.xlabel('True Values', fontsize=15)\n",
        "plt.ylabel('Predictions', fontsize=15)\n",
        "plt.axis('equal')\n",
        "plt.show()"
      ],
      "execution_count": 181,
      "outputs": [
        {
          "output_type": "display_data",
          "data": {
            "image/png": "[encoded data removed]",
            "text/plain": [
              "<Figure size 720x720 with 1 Axes>"
            ]
          },
          "metadata": {
            "tags": [],
            "needs_background": "light"
          }
        }
      ]
    },
    {
      "cell_type": "code",
      "metadata": {
        "id": "WdFzHIkUmJrd"
      },
      "source": [
        "mae_rf_m2 = mean_absolute_error(y_test,y_pred)"
      ],
      "execution_count": 183,
      "outputs": []
    },
    {
      "cell_type": "code",
      "metadata": {
        "colab": {
          "base_uri": "https://localhost:8080/"
        },
        "id": "L6e1SU7ozkhw",
        "outputId": "a673530b-ae7f-432d-b30f-00467ecbca88"
      },
      "source": [
        "print(mae_rf_m2)"
      ],
      "execution_count": 185,
      "outputs": [
        {
          "output_type": "stream",
          "text": [
            "0.00011562629700274569\n"
          ],
          "name": "stdout"
        }
      ]
    },
    {
      "cell_type": "code",
      "metadata": {
        "id": "dpyw2LGx2uMA"
      },
      "source": [
        "import numpy as np\n",
        "\n",
        "def mean_absolute_percentage_error(y_test, y_pred): \n",
        "    y_test, y_pred = np.array(y_test), np.array(y_pred)\n",
        "    return np.mean(np.abs((y_test - y_pred) / y_true)) * 100"
      ],
      "execution_count": 204,
      "outputs": []
    },
    {
      "cell_type": "code",
      "metadata": {
        "colab": {
          "base_uri": "https://localhost:8080/"
        },
        "id": "23-3Y-9y3Ljc",
        "outputId": "a443397e-d209-4bf6-a05a-cea00deb1744"
      },
      "source": [
        "mean_absolute_percentage_error(y_test, y_pred)"
      ],
      "execution_count": 205,
      "outputs": [
        {
          "output_type": "stream",
          "text": [
            "/usr/local/lib/python3.7/dist-packages/ipykernel_launcher.py:5: RuntimeWarning: divide by zero encountered in true_divide\n",
            "  \"\"\"\n"
          ],
          "name": "stderr"
        },
        {
          "output_type": "execute_result",
          "data": {
            "text/plain": [
              "inf"
            ]
          },
          "metadata": {
            "tags": []
          },
          "execution_count": 205
        }
      ]
    },
    {
      "cell_type": "code",
      "metadata": {
        "colab": {
          "base_uri": "https://localhost:8080/"
        },
        "id": "ACzXLcqS42t4",
        "outputId": "cc493334-4946-4c9a-ea95-dadd169cd45f"
      },
      "source": [
        "print(mean_absolute_percentage_error)"
      ],
      "execution_count": 206,
      "outputs": [
        {
          "output_type": "stream",
          "text": [
            "<function mean_absolute_percentage_error at 0x7f4326776a70>\n"
          ],
          "name": "stdout"
        }
      ]
    }
  ]
}